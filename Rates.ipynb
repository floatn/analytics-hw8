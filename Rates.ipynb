{
 "cells": [
  {
   "cell_type": "code",
   "execution_count": 13,
   "id": "0a606959-d69d-4af0-b6fc-246fdfc78896",
   "metadata": {},
   "outputs": [
    {
     "name": "stdout",
     "output_type": "stream",
     "text": [
      "СДР (специальные права заимствования)\n"
     ]
    }
   ],
   "source": [
    "import json\n",
    "\n",
    "class Valute:\n",
    "    def __init__(self, data):\n",
    "        self.valute_date = data['Date']\n",
    "        self.valute_info = data['Valute']\n",
    "\n",
    "    def max_name(self):\n",
    "        max_valute = max(self.valute_info.values(), key = lambda d: d['Value'])\n",
    "        return max_valute['Name']\n",
    "\n",
    "with open('daily_json.js.json', 'r') as daily_json:\n",
    "    data = json.load(daily_json)\n",
    "    valute1 = Valute(data)\n",
    "    print(valute1.max_name())"
   ]
  }
 ],
 "metadata": {
  "kernelspec": {
   "display_name": "Python 3 (ipykernel)",
   "language": "python",
   "name": "python3"
  },
  "language_info": {
   "codemirror_mode": {
    "name": "ipython",
    "version": 3
   },
   "file_extension": ".py",
   "mimetype": "text/x-python",
   "name": "python",
   "nbconvert_exporter": "python",
   "pygments_lexer": "ipython3",
   "version": "3.12.7"
  }
 },
 "nbformat": 4,
 "nbformat_minor": 5
}
